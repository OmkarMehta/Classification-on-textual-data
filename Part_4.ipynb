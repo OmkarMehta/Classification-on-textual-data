{
 "cells": [
  {
   "cell_type": "markdown",
   "metadata": {},
   "source": [
    "# Part 4: Naive Bayes Classifier"
   ]
  },
  {
   "cell_type": "markdown",
   "metadata": {},
   "source": [
    "Naive Bayes Classifier works on the principle of Baye's Theorem. Learn more about it [here](https://www.analyticsvidhya.com/blog/2017/09/naive-bayes-explained/) and [here](https://scikit-learn.org/stable/modules/naive_bayes.html) \n",
    "\n",
    "It assumes that there is conditional independency in feature vectors.\n",
    "Naive Bayes Classifier are faster then other sophisticated learning algorithms. \n",
    "\n",
    "We will use different Naive Bayes Classifiers based on the distribution of P(x/y).\n",
    "* Gaussian NB\n",
    "* Multinomial NB\n",
    "* Bernoulli NB\n",
    "\n",
    "Let's dig into this deeper.\n"
   ]
  },
  {
   "cell_type": "code",
   "execution_count": 8,
   "metadata": {},
   "outputs": [],
   "source": [
    "import numpy as np\n",
    "import matplotlib.pyplot as plt\n",
    "from sklearn.metrics import roc_curve\n",
    "from sklearn.datasets import fetch_20newsgroups\n",
    "from nltk.stem.snowball import SnowballStemmer\n",
    "from sklearn.feature_extraction.text import CountVectorizer\n",
    "from sklearn.feature_extraction.text import TfidfTransformer\n",
    "from sklearn.decomposition import TruncatedSVD\n",
    "from sklearn import metrics\n",
    "from sklearn import svm\n",
    "from sklearn.model_selection import cross_val_predict\n",
    "import re"
   ]
  },
  {
   "cell_type": "markdown",
   "metadata": {},
   "source": [
    "We will import required libraries"
   ]
  },
  {
   "cell_type": "code",
   "execution_count": 9,
   "metadata": {},
   "outputs": [],
   "source": [
    "from sklearn.naive_bayes import GaussianNB \n",
    "from sklearn.naive_bayes import MultinomialNB\n",
    "from sklearn.naive_bayes import BernoulliNB"
   ]
  },
  {
   "cell_type": "code",
   "execution_count": 10,
   "metadata": {},
   "outputs": [],
   "source": [
    "#getting data\n",
    "computer_subclass=['comp.graphics','comp.os.ms-windows.misc','comp.sys.ibm.pc.hardware','comp.sys.mac.hardware']\n",
    "rec_subclass=['rec.autos','rec.motorcycles','rec.sport.baseball','rec.sport.hockey']  \n",
    "comp_train=fetch_20newsgroups(subset='train',categories=computer_subclass,shuffle=True,random_state=42,remove=('headers','footers','quotes'))\n",
    "rec_train=fetch_20newsgroups(subset='train',categories=rec_subclass,shuffle=True,random_state=42,remove=('headers','footers','quotes'))\n",
    "comp_test=fetch_20newsgroups(subset='test',categories=computer_subclass,shuffle=True,random_state=42,remove=('headers','footers','quotes'))\n",
    "rec_test=fetch_20newsgroups(subset='test',categories=rec_subclass,shuffle=True,random_state=42,remove=('headers','footers','quotes'))\n",
    "all_data=comp_train.data+comp_test.data+rec_train.data+rec_test.data\n",
    "stemmer=SnowballStemmer(\"english\")\n"
   ]
  },
  {
   "cell_type": "markdown",
   "metadata": {},
   "source": [
    "**Since SVM is a supervised learning algorithm, we will need labels. So, we will label the data before training the classification model. We will use [+1, -1] classification. '+1' for 'Computer Technology' and '-1' for 'Recreational Activity' classes.**"
   ]
  },
  {
   "cell_type": "code",
   "execution_count": 11,
   "metadata": {},
   "outputs": [],
   "source": [
    "classification_train=[1]*len(comp_train.data)+[-1]*len(rec_train.data)\n",
    "classification_test=[1]*len(comp_test.data)+[-1]*len(rec_test.data)"
   ]
  },
  {
   "cell_type": "markdown",
   "metadata": {},
   "source": [
    "**Preprocessing the data**\n",
    "\n",
    "We have learnt how to do this before in Part_1 and Part_2"
   ]
  },
  {
   "cell_type": "code",
   "execution_count": 12,
   "metadata": {},
   "outputs": [],
   "source": [
    "stemmer=SnowballStemmer(\"english\")\n",
    "#preprocessing data\n",
    "punctuations='[! \\\" # $ % \\& \\' \\( \\) \\ * + , \\- \\. \\/ : ; <=> ? @ \\[ \\\\ \\] ^ _ ` { \\| } ~]'\n",
    "def preprocessing(data_list):\n",
    "    for i in range(len(data_list)):\n",
    "        data_list[i]=\" \".join([stemmer.stem(data) for data in re.split(punctuations,data_list[i])])\n",
    "        data_list[i]=data_list[i].replace('\\n','').replace('\\t','').replace('\\r','')\n",
    "preprocessing(all_data)"
   ]
  },
  {
   "cell_type": "markdown",
   "metadata": {},
   "source": [
    "**We will now tokenize the documents and create a TFIDF matrix, which will be sparse. We will also reduce the dimensions of the features to 50 using LSI and NMF**\n",
    "\n",
    "min_df = 2"
   ]
  },
  {
   "cell_type": "code",
   "execution_count": 14,
   "metadata": {},
   "outputs": [],
   "source": [
    "count_vect=CountVectorizer(min_df=2,stop_words ='english')\n",
    "X_counts=count_vect.fit_transform(all_data)\n",
    "\n",
    "#Feature extraction using TFxIDF\n",
    "tfidf_transformer=TfidfTransformer()\n",
    "X_tfidf=tfidf_transformer.fit_transform(X_counts)\n",
    "\n",
    "#Dimensionality reduction using LSI\n",
    "svd=TruncatedSVD(n_components=50,n_iter=10,random_state=42)\n",
    "svd.fit(X_tfidf)\n",
    "LSI_SVD=svd.transform(X_tfidf)\n",
    "\n",
    "#Dimensionality reduction using NMF\n",
    "from sklearn.decomposition import NMF\n",
    "model=NMF(n_components=50,init='random',random_state=0)\n",
    "LSI_NMF=model.fit_transform(X_tfidf)\n",
    "# print(LSI.shape)"
   ]
  },
  {
   "cell_type": "markdown",
   "metadata": {},
   "source": [
    "### Gaussian NB with SVD"
   ]
  },
  {
   "cell_type": "code",
   "execution_count": 16,
   "metadata": {},
   "outputs": [],
   "source": [
    "#Split train and testing datasts\n",
    "split_point_1=len(comp_train.data)\n",
    "split_point_2=split_point_1+len(comp_test.data)\n",
    "split_point_3=split_point_2+len(rec_train.data)\n",
    "\n",
    "LSI_test_SVD=np.concatenate((LSI_SVD[split_point_1 : split_point_2],LSI_SVD[split_point_3:]))\n",
    "LSI_train_SVD=np.concatenate((LSI_SVD[0:split_point_1],LSI_SVD[split_point_2:split_point_3]))"
   ]
  },
  {
   "cell_type": "markdown",
   "metadata": {},
   "source": [
    "We will use SVD for dimensionality reduction. "
   ]
  },
  {
   "cell_type": "markdown",
   "metadata": {},
   "source": [
    "We will first create an instance of Gaussian NB classifier"
   ]
  },
  {
   "cell_type": "code",
   "execution_count": 17,
   "metadata": {},
   "outputs": [],
   "source": [
    "classifier_GNB = GaussianNB()"
   ]
  },
  {
   "cell_type": "markdown",
   "metadata": {},
   "source": [
    "We will fit LSI_train_SVD with labelled data of classification_train_SVD."
   ]
  },
  {
   "cell_type": "code",
   "execution_count": 21,
   "metadata": {},
   "outputs": [
    {
     "data": {
      "text/plain": [
       "GaussianNB(priors=None, var_smoothing=1e-09)"
      ]
     },
     "execution_count": 21,
     "metadata": {},
     "output_type": "execute_result"
    }
   ],
   "source": [
    "classifier_GNB.fit(LSI_train_SVD, classification_train)"
   ]
  },
  {
   "cell_type": "markdown",
   "metadata": {},
   "source": [
    "We will now predict on LSI_test_SVD"
   ]
  },
  {
   "cell_type": "code",
   "execution_count": 24,
   "metadata": {},
   "outputs": [],
   "source": [
    "predicted_class_GNB=classifier_GNB.predict(LSI_test_SVD)"
   ]
  },
  {
   "cell_type": "code",
   "execution_count": 76,
   "metadata": {},
   "outputs": [],
   "source": [
    "actual_class_GNB = classification_test"
   ]
  },
  {
   "cell_type": "code",
   "execution_count": 77,
   "metadata": {},
   "outputs": [
    {
     "data": {
      "text/plain": [
       "array([[ 0.08739473,  0.04804312,  0.00472738, ..., -0.02296238,\n",
       "         0.02806086, -0.02319277],\n",
       "       [ 0.17148571, -0.09897292, -0.10019029, ..., -0.0270495 ,\n",
       "        -0.01530216,  0.00229864],\n",
       "       [ 0.14821389, -0.08731035,  0.03623614, ...,  0.00180823,\n",
       "        -0.03037294,  0.05326388],\n",
       "       ...,\n",
       "       [ 0.10856059,  0.07225104, -0.01058911, ..., -0.00058122,\n",
       "        -0.00385698,  0.0249344 ],\n",
       "       [ 0.05552726,  0.04876174, -0.01475507, ..., -0.01172822,\n",
       "        -0.00411069,  0.00243525],\n",
       "       [ 0.10678282,  0.23485621, -0.07916782, ...,  0.02035546,\n",
       "        -0.01292932,  0.02513128]])"
      ]
     },
     "execution_count": 77,
     "metadata": {},
     "output_type": "execute_result"
    }
   ],
   "source": [
    "LSI_test_SVD[:]"
   ]
  },
  {
   "cell_type": "markdown",
   "metadata": {},
   "source": [
    "We will predict the probability"
   ]
  },
  {
   "cell_type": "code",
   "execution_count": 38,
   "metadata": {},
   "outputs": [
    {
     "data": {
      "text/plain": [
       "array([2.21703468e-02, 1.00000000e+00, 9.99995301e-01, ...,\n",
       "       5.79113742e-08, 3.03427966e-08, 6.00526586e-06])"
      ]
     },
     "execution_count": 38,
     "metadata": {},
     "output_type": "execute_result"
    }
   ],
   "source": [
    "predict_probability_GNB=classifier_GNB.predict_proba(LSI_test_SVD[:])[:,1]\n",
    "predict_probability_GNB"
   ]
  },
  {
   "cell_type": "markdown",
   "metadata": {},
   "source": [
    "Classification Report"
   ]
  },
  {
   "cell_type": "code",
   "execution_count": 78,
   "metadata": {},
   "outputs": [
    {
     "name": "stdout",
     "output_type": "stream",
     "text": [
      "Classification report:\n",
      "              precision    recall  f1-score   support\n",
      "\n",
      "    Com Tech       0.75      0.90      0.82      1590\n",
      "     Rec Act       0.88      0.70      0.78      1560\n",
      "\n",
      "   micro avg       0.80      0.80      0.80      3150\n",
      "   macro avg       0.82      0.80      0.80      3150\n",
      "weighted avg       0.82      0.80      0.80      3150\n",
      "\n"
     ]
    }
   ],
   "source": [
    "print('Classification report:')\n",
    "print(metrics.classification_report(actual_class_GNB,predicted_class_GNB,target_names=[\"Com Tech\",\"Rec Act\"]),)"
   ]
  },
  {
   "cell_type": "markdown",
   "metadata": {},
   "source": [
    "Confusion Matrix"
   ]
  },
  {
   "cell_type": "code",
   "execution_count": 79,
   "metadata": {},
   "outputs": [
    {
     "name": "stdout",
     "output_type": "stream",
     "text": [
      "Confusion Matrix:\n",
      "[[1437  153]\n",
      " [ 467 1093]]\n"
     ]
    }
   ],
   "source": [
    "print('Confusion Matrix:')\n",
    "print(metrics.confusion_matrix(actual_class_GNB,predicted_class_GNB))"
   ]
  },
  {
   "cell_type": "code",
   "execution_count": 80,
   "metadata": {},
   "outputs": [
    {
     "name": "stdout",
     "output_type": "stream",
     "text": [
      "Total accuracy: \n",
      "0.8031746031746032\n"
     ]
    }
   ],
   "source": [
    "print('Total accuracy: ')\n",
    "print(np.mean(actual_class_GNB==predicted_class_GNB))\n"
   ]
  },
  {
   "cell_type": "code",
   "execution_count": 81,
   "metadata": {},
   "outputs": [
    {
     "data": {
      "image/png": "[encoded data removed]",
      "text/plain": [
       "<Figure size 720x720 with 1 Axes>"
      ]
     },
     "metadata": {
      "needs_background": "light"
     },
     "output_type": "display_data"
    }
   ],
   "source": [
    "fpr,tpr,threshold=roc_curve(actual_class_GNB,predict_probability_GNB)\n",
    "line=[0,1]\n",
    "plt.figure(figsize=(10,10))\n",
    "plt.plot(fpr,tpr)\n",
    "plt.plot([0,1],[0,1])\n",
    "plt.ylabel('True Positive Rate',fontsize=15)\n",
    "plt.xlabel('False Positive Rate',fontsize=15)\n",
    "plt.title('ROC-Curve of Gaussian Naive Bayes Classification',fontsize=15)\n",
    "plt.axis([-0.004,1,0,1.006])\n",
    "plt.show()"
   ]
  },
  {
   "cell_type": "markdown",
   "metadata": {},
   "source": [
    "## Multinomial NB"
   ]
  },
  {
   "cell_type": "code",
   "execution_count": 82,
   "metadata": {},
   "outputs": [],
   "source": [
    "all_train=fetch_20newsgroups(subset='train',categories=computer_subclass+rec_subclass,shuffle=True,random_state=42,remove=('headers','footers','quotes'))\n",
    "all_test=fetch_20newsgroups(subset='test',categories=computer_subclass+rec_subclass,shuffle=True,random_state=42,remove=('headers','footers','quotes'))\n",
    "all_data=all_train.data+all_test.data"
   ]
  },
  {
   "cell_type": "code",
   "execution_count": 83,
   "metadata": {},
   "outputs": [],
   "source": [
    "preprocessing(all_train.data)\n",
    "preprocessing(all_test.data)"
   ]
  },
  {
   "cell_type": "markdown",
   "metadata": {},
   "source": [
    "Creating TFIDF matrix"
   ]
  },
  {
   "cell_type": "code",
   "execution_count": 86,
   "metadata": {},
   "outputs": [
    {
     "data": {
      "text/plain": [
       "array([6, 7, 4, ..., 6, 6, 2], dtype=int64)"
      ]
     },
     "execution_count": 86,
     "metadata": {},
     "output_type": "execute_result"
    }
   ],
   "source": [
    "count_vect=CountVectorizer(min_df=2,stop_words ='english')\n",
    "X_counts_MNNB=count_vect.fit_transform(all_train.data)\n",
    "\n",
    "#Feature extraction using TFxIDF\n",
    "tfidf_transformer=TfidfTransformer()\n",
    "X_tfidf_MNNB=tfidf_transformer.fit_transform(X_counts_MNNB)\n",
    "\n",
    "all_train.target"
   ]
  },
  {
   "cell_type": "code",
   "execution_count": 87,
   "metadata": {},
   "outputs": [
    {
     "data": {
      "text/plain": [
       "array([3, 2, 3, ..., 7, 1, 1], dtype=int64)"
      ]
     },
     "execution_count": 87,
     "metadata": {},
     "output_type": "execute_result"
    }
   ],
   "source": [
    "all_test.target"
   ]
  },
  {
   "cell_type": "markdown",
   "metadata": {},
   "source": [
    "Create instance of Multinomial NB"
   ]
  },
  {
   "cell_type": "code",
   "execution_count": 88,
   "metadata": {},
   "outputs": [
    {
     "data": {
      "text/plain": [
       "MultinomialNB(alpha=1.0, class_prior=None, fit_prior=True)"
      ]
     },
     "execution_count": 88,
     "metadata": {},
     "output_type": "execute_result"
    }
   ],
   "source": [
    "clf=MultinomialNB()\n",
    "clf.fit(X_tfidf_MNNB,all_train.target)"
   ]
  },
  {
   "cell_type": "code",
   "execution_count": 89,
   "metadata": {},
   "outputs": [
    {
     "data": {
      "text/plain": [
       "array([3, 2, 0, ..., 4, 1, 1], dtype=int64)"
      ]
     },
     "execution_count": 89,
     "metadata": {},
     "output_type": "execute_result"
    }
   ],
   "source": [
    "X_new_counts = count_vect.transform(all_test.data)\n",
    "X_new_tfidf = tfidf_transformer.transform(X_new_counts)\n",
    "predicted_class_MNNB = clf.predict(X_new_tfidf)\n",
    "actual_class_MNNB = all_test.target\n",
    "predicted_class_MNNB"
   ]
  },
  {
   "cell_type": "code",
   "execution_count": 90,
   "metadata": {},
   "outputs": [
    {
     "name": "stdout",
     "output_type": "stream",
     "text": [
      "Classification report:\n",
      "                          precision    recall  f1-score   support\n",
      "\n",
      "           comp.graphics       0.77      0.79      0.78       389\n",
      " comp.os.ms-windows.misc       0.74      0.62      0.68       394\n",
      "comp.sys.ibm.pc.hardware       0.66      0.76      0.71       392\n",
      "   comp.sys.mac.hardware       0.80      0.69      0.74       385\n",
      "               rec.autos       0.83      0.83      0.83       396\n",
      "         rec.motorcycles       0.88      0.81      0.84       398\n",
      "      rec.sport.baseball       0.93      0.83      0.88       397\n",
      "        rec.sport.hockey       0.72      0.94      0.81       399\n",
      "\n",
      "               micro avg       0.79      0.79      0.79      3150\n",
      "               macro avg       0.79      0.78      0.78      3150\n",
      "            weighted avg       0.79      0.79      0.78      3150\n",
      "\n"
     ]
    }
   ],
   "source": [
    "print('Classification report:')\n",
    "print(metrics.classification_report(actual_class_MNNB,predicted_class_MNNB,\n",
    "                                    target_names=['comp.graphics','comp.os.ms-windows.misc','comp.sys.ibm.pc.hardware','comp.sys.mac.hardware',\n",
    "                                                                              'rec.autos','rec.motorcycles','rec.sport.baseball','rec.sport.hockey']),)"
   ]
  },
  {
   "cell_type": "code",
   "execution_count": 91,
   "metadata": {},
   "outputs": [
    {
     "name": "stdout",
     "output_type": "stream",
     "text": [
      "Confusion Matrix:\n",
      "[[307  24  21  16   8   5   1   7]\n",
      " [ 46 246  59  12   6   8   1  16]\n",
      " [ 13  38 297  31   3   1   0   9]\n",
      " [ 15  19  53 267   9   4   1  17]\n",
      " [  2   2   2   2 328  19   8  33]\n",
      " [  6   0   6   5  31 323   6  21]\n",
      " [  9   2   6   0   3   3 331  43]\n",
      " [  3   1   3   1   6   4   7 374]]\n"
     ]
    }
   ],
   "source": [
    "print('Confusion Matrix:')\n",
    "print(metrics.confusion_matrix(actual_class_MNNB,predicted_class_MNNB))\n",
    "\n"
   ]
  },
  {
   "cell_type": "code",
   "execution_count": 92,
   "metadata": {},
   "outputs": [
    {
     "name": "stdout",
     "output_type": "stream",
     "text": [
      "Total accuracy: \n",
      "0.785079365079365\n"
     ]
    }
   ],
   "source": [
    "print('Total accuracy: ')\n",
    "print(np.mean(actual_class==predicted_class))"
   ]
  },
  {
   "cell_type": "markdown",
   "metadata": {},
   "source": [
    "## Bernouilli NB"
   ]
  },
  {
   "cell_type": "code",
   "execution_count": 93,
   "metadata": {},
   "outputs": [],
   "source": [
    "classifier_BNB = BernoulliNB()"
   ]
  },
  {
   "cell_type": "markdown",
   "metadata": {},
   "source": [
    "We will fit LSI_train_SVD with labelled data of classification_train_SVD."
   ]
  },
  {
   "cell_type": "code",
   "execution_count": 95,
   "metadata": {},
   "outputs": [
    {
     "data": {
      "text/plain": [
       "BernoulliNB(alpha=1.0, binarize=0.0, class_prior=None, fit_prior=True)"
      ]
     },
     "execution_count": 95,
     "metadata": {},
     "output_type": "execute_result"
    }
   ],
   "source": [
    "classifier_BNB.fit(LSI_train_SVD, classification_train)"
   ]
  },
  {
   "cell_type": "markdown",
   "metadata": {},
   "source": [
    "We will now predict on LSI_test_SVD"
   ]
  },
  {
   "cell_type": "code",
   "execution_count": 97,
   "metadata": {},
   "outputs": [],
   "source": [
    "predicted_class_BNB=classifier_BNB.predict(LSI_test_SVD)\n",
    "actual_class_BNB = classification_test"
   ]
  },
  {
   "cell_type": "code",
   "execution_count": 98,
   "metadata": {},
   "outputs": [
    {
     "data": {
      "text/plain": [
       "array([0.09255328, 0.93471593, 0.7692961 , ..., 0.19175852, 0.22421953,\n",
       "       0.23004187])"
      ]
     },
     "execution_count": 98,
     "metadata": {},
     "output_type": "execute_result"
    }
   ],
   "source": [
    "predict_probability_BNB=classifier_BNB.predict_proba(LSI_test_SVD[:])[:,1]\n",
    "predict_probability_BNB"
   ]
  },
  {
   "cell_type": "code",
   "execution_count": 99,
   "metadata": {},
   "outputs": [
    {
     "name": "stdout",
     "output_type": "stream",
     "text": [
      "Classification report:\n",
      "              precision    recall  f1-score   support\n",
      "\n",
      "    Com Tech       0.86      0.89      0.88      1590\n",
      "     Rec Act       0.89      0.85      0.87      1560\n",
      "\n",
      "   micro avg       0.87      0.87      0.87      3150\n",
      "   macro avg       0.87      0.87      0.87      3150\n",
      "weighted avg       0.87      0.87      0.87      3150\n",
      "\n"
     ]
    }
   ],
   "source": [
    "print('Classification report:')\n",
    "print(metrics.classification_report(actual_class_BNB,predicted_class_BNB,target_names=[\"Com Tech\",\"Rec Act\"]),)"
   ]
  },
  {
   "cell_type": "code",
   "execution_count": 100,
   "metadata": {},
   "outputs": [
    {
     "name": "stdout",
     "output_type": "stream",
     "text": [
      "Confusion Matrix:\n",
      "[[1417  173]\n",
      " [ 227 1333]]\n"
     ]
    }
   ],
   "source": [
    "print('Confusion Matrix:')\n",
    "print(metrics.confusion_matrix(actual_class_BNB,predicted_class_BNB))"
   ]
  },
  {
   "cell_type": "code",
   "execution_count": 101,
   "metadata": {},
   "outputs": [
    {
     "name": "stdout",
     "output_type": "stream",
     "text": [
      "Total accuracy: \n",
      "0.873015873015873\n"
     ]
    }
   ],
   "source": [
    "print('Total accuracy: ')\n",
    "print(np.mean(actual_class_BNB==predicted_class_BNB))\n"
   ]
  },
  {
   "cell_type": "code",
   "execution_count": 102,
   "metadata": {},
   "outputs": [
    {
     "data": {
      "image/png": "[encoded data removed]",
      "text/plain": [
       "<Figure size 720x720 with 1 Axes>"
      ]
     },
     "metadata": {
      "needs_background": "light"
     },
     "output_type": "display_data"
    }
   ],
   "source": [
    "fpr,tpr,threshold=roc_curve(actual_class_BNB,predict_probability_BNB)\n",
    "line=[0,1]\n",
    "plt.figure(figsize=(10,10))\n",
    "plt.plot(fpr,tpr)\n",
    "plt.plot([0,1],[0,1])\n",
    "plt.ylabel('True Positive Rate',fontsize=15)\n",
    "plt.xlabel('False Positive Rate',fontsize=15)\n",
    "plt.title('ROC-Curve of Bernoulli Naive Bayes Classification',fontsize=15)\n",
    "plt.axis([-0.004,1,0,1.006])\n",
    "plt.show()"
   ]
  },
  {
   "cell_type": "code",
   "execution_count": null,
   "metadata": {},
   "outputs": [],
   "source": []
  }
 ],
 "metadata": {
  "kernelspec": {
   "display_name": "Python 3",
   "language": "python",
   "name": "python3"
  },
  "language_info": {
   "codemirror_mode": {
    "name": "ipython",
    "version": 3
   },
   "file_extension": ".py",
   "mimetype": "text/x-python",
   "name": "python",
   "nbconvert_exporter": "python",
   "pygments_lexer": "ipython3",
   "version": "3.7.1"
  }
 },
 "nbformat": 4,
 "nbformat_minor": 2
}
