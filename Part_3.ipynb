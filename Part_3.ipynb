{
 "cells": [
  {
   "cell_type": "markdown",
   "metadata": {},
   "source": [
    "# Part 3: Learning Algorithms"
   ]
  },
  {
   "cell_type": "markdown",
   "metadata": {},
   "source": [
    "## Support Vector Machines\n",
    "\n",
    "---------\n",
    "Support Vector Machines are said to be the most popular and widely used algorithm. The concept behind SVM is so simple that once you read [Andrew Ng's notes here](https://www.reddit.com/r/MachineLearning/comments/15zrpp/please_explain_support_vector_machines_svm_like_i/), you will fairly understand how to implement it. I'd recommend going deep into SVM. But there are other awesome articles too, like [this](https://machinelearningmastery.com/support-vector-machines-for-machine-learning/) and [this](https://www.quora.com/What-does-support-vector-machine-SVM-mean-in-laymans-terms) and [this too](https://www.reddit.com/r/MachineLearning/comments/15zrpp/please_explain_support_vector_machines_svm_like_i/). \n",
    "\n",
    "I've enjoyed reading these articles. Now, let me tell you what SVM is.\n",
    "Suppose you have training data of positive and negative examples( Positive: Person has Cancer & Negative: Persons doesn't have cancer). You want to classify this data and predict if it's a positive or negative example. We plot the decision boundary using the [equation](https://jupyter-notebook.readthedocs.io/en/stable/examples/Notebook/Typesetting%20Equations.html):\n",
    "\n",
    "$$\\Theta^T x = \\ 0$$\n",
    "\n",
    "This is basically a line for two-dimensional data. If we have certain positive training data that are far away from this line, we can predict that it is a positive example with more confidence. And if it's closer to this line, then we can predict it as positive example but a small change in decision boundary or line can change our prediction. "
   ]
  },
  {
   "cell_type": "markdown",
   "metadata": {},
   "source": [
    "#### Let's import our required libraries and dataset"
   ]
  },
  {
   "cell_type": "code",
   "execution_count": 5,
   "metadata": {},
   "outputs": [],
   "source": [
    "import numpy as np\n",
    "import matplotlib.pyplot as plt\n",
    "from sklearn.metrics import roc_curve\n",
    "from sklearn.datasets import fetch_20newsgroups\n",
    "from nltk.stem.snowball import SnowballStemmer\n",
    "from sklearn.feature_extraction.text import CountVectorizer\n",
    "from sklearn.feature_extraction.text import TfidfTransformer\n",
    "from sklearn.decomposition import TruncatedSVD\n",
    "from sklearn import metrics\n",
    "from sklearn import svm\n",
    "from sklearn.model_selection import cross_val_predict #In python, from sklearn.cross_validation import cross_val_predict\n",
    "import re"
   ]
  },
  {
   "cell_type": "markdown",
   "metadata": {},
   "source": [
    "**Let's prepare our data** \n",
    "\n",
    "Here, we will consider 8 classes out of 20. We will merge four of those into 'Computer Technology' and the other four into 'Recreational activity'. Our new classes will be 'Computer Technology' and 'Recreational activity'. \n",
    "Look at the code below to understand what I mean.\n",
    "\n",
    "* We will also separate the training and test subsets of the data. Model will learn on training data. We will test this model on test data."
   ]
  },
  {
   "cell_type": "code",
   "execution_count": 6,
   "metadata": {},
   "outputs": [],
   "source": [
    "#getting data\n",
    "computer_subclass=['comp.graphics','comp.os.ms-windows.misc','comp.sys.ibm.pc.hardware','comp.sys.mac.hardware']\n",
    "rec_subclass=['rec.autos','rec.motorcycles','rec.sport.baseball','rec.sport.hockey']  \n",
    "comp_train=fetch_20newsgroups(subset='train',categories=computer_subclass,shuffle=True,random_state=42,\n",
    "                              remove=('headers','footers','quotes'))\n",
    "rec_train=fetch_20newsgroups(subset='train',categories=rec_subclass,shuffle=True,random_state=42,\n",
    "                             remove=('headers','footers','quotes'))\n",
    "comp_test=fetch_20newsgroups(subset='test',categories=computer_subclass,shuffle=True,random_state=42,\n",
    "                             remove=('headers','footers','quotes'))\n",
    "rec_test=fetch_20newsgroups(subset='test',categories=rec_subclass,shuffle=True,random_state=42,\n",
    "                            remove=('headers','footers','quotes'))\n",
    "all_data=comp_train.data+comp_test.data+rec_train.data+rec_test.data"
   ]
  },
  {
   "cell_type": "markdown",
   "metadata": {},
   "source": [
    "**Since SVM is a supervised learning algorithm, we will need labels. So, we will label the data before training the classification model. We will use [+1, -1] classification. '+1' for 'Computer Technology' and '-1' for 'Recreational Activity' classes.**"
   ]
  },
  {
   "cell_type": "code",
   "execution_count": 7,
   "metadata": {},
   "outputs": [],
   "source": [
    "classification_train=[1]*len(comp_train.data)+[-1]*len(rec_train.data)\n",
    "classification_test=[1]*len(comp_test.data)+[-1]*len(rec_test.data)"
   ]
  },
  {
   "cell_type": "markdown",
   "metadata": {},
   "source": [
    "**Preprocessing the data**\n",
    "\n",
    "We have learnt how to do this before in Part_1 and Part_2"
   ]
  },
  {
   "cell_type": "code",
   "execution_count": 8,
   "metadata": {},
   "outputs": [],
   "source": [
    "stemmer=SnowballStemmer(\"english\")\n",
    "#preprocessing data\n",
    "punctuations='[! \\\" # $ % \\& \\' \\( \\) \\ * + , \\- \\. \\/ : ; <=> ? @ \\[ \\\\ \\] ^ _ ` { \\| } ~]'\n",
    "def preprocessing(data_list):\n",
    "    for i in range(len(data_list)):\n",
    "        data_list[i]=\" \".join([stemmer.stem(data) for data in re.split(punctuations,data_list[i])])\n",
    "        data_list[i]=data_list[i].replace('\\n','').replace('\\t','').replace('\\r','')\n",
    "preprocessing(all_data)"
   ]
  },
  {
   "cell_type": "markdown",
   "metadata": {},
   "source": [
    "**We will now tokenize the documents and create a TFIDF matrix, which will be sparse. We will also reduce the dimensions of the features to 50 using LSI and NMF**\n",
    "\n",
    "min_df = 2"
   ]
  },
  {
   "cell_type": "code",
   "execution_count": 9,
   "metadata": {},
   "outputs": [],
   "source": [
    "count_vect=CountVectorizer(min_df=2,stop_words ='english')\n",
    "X_counts=count_vect.fit_transform(all_data)\n",
    "\n",
    "#Feature extraction using TFxIDF\n",
    "tfidf_transformer=TfidfTransformer()\n",
    "X_tfidf=tfidf_transformer.fit_transform(X_counts)\n",
    "\n",
    "#Dimensionality reduction using LSI\n",
    "svd=TruncatedSVD(n_components=50,n_iter=10,random_state=42)\n",
    "svd.fit(X_tfidf)\n",
    "LSI_SVD=svd.transform(X_tfidf)\n",
    "\n",
    "#Dimensionality reduction using NMF\n",
    "from sklearn.decomposition import NMF\n",
    "model=NMF(n_components=50,init='random',random_state=0)\n",
    "LSI_NMF=model.fit_transform(X_tfidf)\n",
    "# print(LSI.shape)\n",
    "\n"
   ]
  },
  {
   "cell_type": "markdown",
   "metadata": {},
   "source": [
    "### Linear SVM with SVD"
   ]
  },
  {
   "cell_type": "code",
   "execution_count": 68,
   "metadata": {},
   "outputs": [],
   "source": [
    "#Split train and testing datasts\n",
    "split_point_1=len(comp_train.data)\n",
    "split_point_2=split_point_1+len(comp_test.data)\n",
    "split_point_3=split_point_2+len(rec_train.data)\n",
    "\n",
    "LSI_test_SVD=np.concatenate((LSI_SVD[split_point_1 : split_point_2],LSI_SVD[split_point_3:]))\n",
    "LSI_train_SVD=np.concatenate((LSI_SVD[0:split_point_1],LSI_SVD[split_point_2:split_point_3]))\n"
   ]
  },
  {
   "cell_type": "markdown",
   "metadata": {},
   "source": [
    "We will first create instance of LinearSVM model. Then we will fit the model on training data(LSI_train_SVD)using fit method."
   ]
  },
  {
   "cell_type": "code",
   "execution_count": 69,
   "metadata": {},
   "outputs": [
    {
     "data": {
      "text/plain": [
       "LinearSVC(C=1.0, class_weight=None, dual=True, fit_intercept=True,\n",
       "     intercept_scaling=1, loss='squared_hinge', max_iter=1000,\n",
       "     multi_class='ovr', penalty='l2', random_state=None, tol=0.0001,\n",
       "     verbose=0)"
      ]
     },
     "execution_count": 69,
     "metadata": {},
     "output_type": "execute_result"
    }
   ],
   "source": [
    "#Prediction using Linear SVM\n",
    "classifier=svm.LinearSVC()\n",
    "classifier.fit(LSI_train_SVD,classification_train) "
   ]
  },
  {
   "cell_type": "markdown",
   "metadata": {},
   "source": [
    "The model has now learnt from the training data. (Just a few lines of code...)\n",
    "\n",
    "Now, it's time to test our model, using predict method of classifier.\n",
    "\n",
    "We will also calculate the confidence score (distance of data from hyperplane), using decision_function."
   ]
  },
  {
   "cell_type": "code",
   "execution_count": 70,
   "metadata": {},
   "outputs": [],
   "source": [
    "predicted_class_SVD=classifier.predict(LSI_test_SVD)\n",
    "actual_class=classification_test\n",
    "score_SVD=classifier.decision_function(LSI_test_SVD)"
   ]
  },
  {
   "cell_type": "markdown",
   "metadata": {},
   "source": [
    "We will print our Classification report to see what we have got.\n",
    "\n",
    "We can easily get classification report from metrics library of sklearn. We need to pass in the following arguments: our predicted results and actual results.\n",
    "\n",
    "What do we get in Classification report? \n",
    "* Precision: It is the proportion of the items places in the category that are really in the category.\n",
    "* Recall: It is the proportion of the iterms reallin in the category that are placed in the category.\n",
    "* F1-score: It is the harmonic mean of precision and recall\n",
    "* Support: I don't know what support is."
   ]
  },
  {
   "cell_type": "code",
   "execution_count": 71,
   "metadata": {},
   "outputs": [
    {
     "name": "stdout",
     "output_type": "stream",
     "text": [
      "Classification report for Linear SVM using SVD:\n",
      "              precision    recall  f1-score   support\n",
      "\n",
      "    Com Tech       0.91      0.97      0.94      1590\n",
      "     Rec Act       0.97      0.90      0.93      1560\n",
      "\n",
      "   micro avg       0.94      0.94      0.94      3150\n",
      "   macro avg       0.94      0.94      0.94      3150\n",
      "weighted avg       0.94      0.94      0.94      3150\n",
      "\n"
     ]
    }
   ],
   "source": [
    "print('Classification report for Linear SVM using SVD:')\n",
    "print(metrics.classification_report(actual_class,predicted_class_SVD,target_names=[\"Com Tech\",\"Rec Act\"]))"
   ]
  },
  {
   "cell_type": "markdown",
   "metadata": {},
   "source": [
    "Confusion matrix"
   ]
  },
  {
   "cell_type": "code",
   "execution_count": 72,
   "metadata": {},
   "outputs": [
    {
     "name": "stdout",
     "output_type": "stream",
     "text": [
      "Confusion Matrix for Linear SVM with SVD:\n",
      "[[1544   46]\n",
      " [ 153 1407]]\n"
     ]
    }
   ],
   "source": [
    "print('Confusion Matrix for Linear SVM with SVD:')\n",
    "print(metrics.confusion_matrix(actual_class,predicted_class_SVD))"
   ]
  },
  {
   "cell_type": "markdown",
   "metadata": {},
   "source": [
    "Total Accuracy for Linear SVM with SVD:"
   ]
  },
  {
   "cell_type": "code",
   "execution_count": 73,
   "metadata": {},
   "outputs": [
    {
     "name": "stdout",
     "output_type": "stream",
     "text": [
      "Total accuracy: \n",
      "0.9368253968253968\n"
     ]
    }
   ],
   "source": [
    "print('Total accuracy: ')\n",
    "print(np.mean(actual_class==predicted_class_SVD))"
   ]
  },
  {
   "cell_type": "markdown",
   "metadata": {},
   "source": [
    "We will plot now ROC curve"
   ]
  },
  {
   "cell_type": "code",
   "execution_count": 74,
   "metadata": {},
   "outputs": [
    {
     "data": {
      "image/png": "[encoded data removed]",
      "text/plain": [
       "<Figure size 720x720 with 1 Axes>"
      ]
     },
     "metadata": {
      "needs_background": "light"
     },
     "output_type": "display_data"
    }
   ],
   "source": [
    "fpr,tpr,threshold=roc_curve(actual_class,score_SVD)\n",
    "line=[0,1]\n",
    "plt.figure(figsize=(10,10))\n",
    "plt.plot(fpr,tpr)\n",
    "plt.plot([0,1],[0,1])\n",
    "plt.ylabel('True Positive Rate',fontsize=15)\n",
    "plt.xlabel('False Positive Rate',fontsize=15)\n",
    "plt.title('ROC-Curve of a linear SVM Classification with SVD',fontsize=15)\n",
    "plt.axis([-0.004,1,0,1.006])\n",
    "plt.show()"
   ]
  },
  {
   "cell_type": "markdown",
   "metadata": {},
   "source": [
    "## Linear SVM with NMF"
   ]
  },
  {
   "cell_type": "code",
   "execution_count": 76,
   "metadata": {},
   "outputs": [],
   "source": [
    "#Split train and testing datasts\n",
    "split_point_1=len(comp_train.data)\n",
    "split_point_2=split_point_1+len(comp_test.data)\n",
    "split_point_3=split_point_2+len(rec_train.data)\n",
    "\n",
    "LSI_test_NMF=np.concatenate((LSI_NMF[split_point_1 : split_point_2],LSI_NMF[split_point_3:]))\n",
    "LSI_train_NMF=np.concatenate((LSI_NMF[0:split_point_1],LSI_NMF[split_point_2:split_point_3]))"
   ]
  },
  {
   "cell_type": "markdown",
   "metadata": {},
   "source": [
    "We will first create instance of LinearSVM model. Then we will fit the model on training data(LSI_train_NMF)using fit method."
   ]
  },
  {
   "cell_type": "code",
   "execution_count": 77,
   "metadata": {},
   "outputs": [
    {
     "data": {
      "text/plain": [
       "LinearSVC(C=1.0, class_weight=None, dual=True, fit_intercept=True,\n",
       "     intercept_scaling=1, loss='squared_hinge', max_iter=1000,\n",
       "     multi_class='ovr', penalty='l2', random_state=None, tol=0.0001,\n",
       "     verbose=0)"
      ]
     },
     "execution_count": 77,
     "metadata": {},
     "output_type": "execute_result"
    }
   ],
   "source": [
    "#Prediction using Linear SVM\n",
    "classifier=svm.LinearSVC()\n",
    "classifier.fit(LSI_train_NMF,classification_train) "
   ]
  },
  {
   "cell_type": "markdown",
   "metadata": {},
   "source": [
    "The model has now learnt from the training data. (Just a few lines of code...)\n",
    "\n",
    "Now, it's time to test our model, using predict method of classifier.\n",
    "\n",
    "We will also calculate the confidence score (distance of data from hyperplane), using decision_function."
   ]
  },
  {
   "cell_type": "code",
   "execution_count": 78,
   "metadata": {},
   "outputs": [],
   "source": [
    "predicted_class_NMF=classifier.predict(LSI_test_NMF)\n",
    "actual_class=classification_test\n",
    "score_NMF=classifier.decision_function(LSI_test_NMF)"
   ]
  },
  {
   "cell_type": "markdown",
   "metadata": {},
   "source": [
    "We will print our Classification report to see what we have got.\n",
    "\n",
    "We can easily get classification report from metrics library of sklearn. We need to pass in the following arguments: our predicted results and actual results.\n",
    "\n",
    "What do we get in Classification report? \n",
    "* Precision: It is the proportion of the items places in the category that are really in the category.\n",
    "* Recall: It is the proportion of the iterms reallin in the category that are placed in the category.\n",
    "* F1-score: It is the harmonic mean of precision and recall\n",
    "* Support: I don't know what support is."
   ]
  },
  {
   "cell_type": "code",
   "execution_count": 79,
   "metadata": {},
   "outputs": [
    {
     "name": "stdout",
     "output_type": "stream",
     "text": [
      "Classification report for Linear SVM using NMF:\n",
      "              precision    recall  f1-score   support\n",
      "\n",
      "    Com Tech       0.84      0.95      0.90      1590\n",
      "     Rec Act       0.95      0.82      0.88      1560\n",
      "\n",
      "   micro avg       0.89      0.89      0.89      3150\n",
      "   macro avg       0.89      0.89      0.89      3150\n",
      "weighted avg       0.89      0.89      0.89      3150\n",
      "\n"
     ]
    }
   ],
   "source": [
    "print('Classification report for Linear SVM using NMF:')\n",
    "print(metrics.classification_report(actual_class,predicted_class_NMF,target_names=[\"Com Tech\",\"Rec Act\"]))"
   ]
  },
  {
   "cell_type": "markdown",
   "metadata": {},
   "source": [
    "Confusion matrix"
   ]
  },
  {
   "cell_type": "code",
   "execution_count": 80,
   "metadata": {},
   "outputs": [
    {
     "name": "stdout",
     "output_type": "stream",
     "text": [
      "Confusion Matrix for Linear SVM with NMF:\n",
      "[[1516   74]\n",
      " [ 281 1279]]\n"
     ]
    }
   ],
   "source": [
    "print('Confusion Matrix for Linear SVM with NMF:')\n",
    "print(metrics.confusion_matrix(actual_class,predicted_class_NMF))"
   ]
  },
  {
   "cell_type": "markdown",
   "metadata": {},
   "source": [
    "Total Accuracy for Linear SVM with NMF:"
   ]
  },
  {
   "cell_type": "code",
   "execution_count": 81,
   "metadata": {},
   "outputs": [
    {
     "name": "stdout",
     "output_type": "stream",
     "text": [
      "Total accuracy: \n",
      "0.8873015873015873\n"
     ]
    }
   ],
   "source": [
    "print('Total accuracy: ')\n",
    "print(np.mean(actual_class==predicted_class_NMF))"
   ]
  },
  {
   "cell_type": "markdown",
   "metadata": {},
   "source": [
    "We will plot now ROC curve"
   ]
  },
  {
   "cell_type": "code",
   "execution_count": 82,
   "metadata": {},
   "outputs": [
    {
     "data": {
      "image/png": "[encoded data removed]",
      "text/plain": [
       "<Figure size 720x720 with 1 Axes>"
      ]
     },
     "metadata": {
      "needs_background": "light"
     },
     "output_type": "display_data"
    }
   ],
   "source": [
    "fpr,tpr,threshold=roc_curve(actual_class,score)\n",
    "line=[0,1]\n",
    "plt.figure(figsize=(10,10))\n",
    "plt.plot(fpr,tpr)\n",
    "plt.plot([0,1],[0,1])\n",
    "plt.ylabel('True Positive Rate',fontsize=15)\n",
    "plt.xlabel('False Positive Rate',fontsize=15)\n",
    "plt.title('ROC-Curve of a linear SVM Classification with NMF',fontsize=15)\n",
    "plt.axis([-0.004,1,0,1.006])\n",
    "plt.show()"
   ]
  },
  {
   "cell_type": "markdown",
   "metadata": {},
   "source": [
    "As we can see "
   ]
  }
 ],
 "metadata": {
  "kernelspec": {
   "display_name": "Python 3",
   "language": "python",
   "name": "python3"
  },
  "language_info": {
   "codemirror_mode": {
    "name": "ipython",
    "version": 3
   },
   "file_extension": ".py",
   "mimetype": "text/x-python",
   "name": "python",
   "nbconvert_exporter": "python",
   "pygments_lexer": "ipython3",
   "version": "3.7.1"
  }
 },
 "nbformat": 4,
 "nbformat_minor": 2
}
