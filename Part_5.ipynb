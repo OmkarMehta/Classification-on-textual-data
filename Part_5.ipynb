{
 "cells": [
  {
   "cell_type": "markdown",
   "metadata": {},
   "source": [
    "# Part 5: Multiclass Classification: One vs One and One vs Rest"
   ]
  },
  {
   "cell_type": "markdown",
   "metadata": {},
   "source": [
    "In this part, we aim to classify documents belonging to:\n",
    "* comp.sys.ibm.pc.hardware\n",
    "* comp.sys.mac.hardware \n",
    "* misc.forsale\n",
    "* soc.religion.christian."
   ]
  },
  {
   "cell_type": "markdown",
   "metadata": {},
   "source": [
    "We will use Naive Bayes Classification and SVM classification (with both One Vs One and One Vs Rest).\n",
    "Naive Bayes classifier inherently finds the class with maximum likelihood given the data, no matter the number of classes. \n",
    "But for SVM, we can use two approaches. 1. One Vs One: Perform binary classification all pairs of classes and given the document, find the class with the majority vote. 2. One Vs Rest: Perform one classifer per class. For each classifier, each class is fitted against all other classes.  "
   ]
  },
  {
   "cell_type": "markdown",
   "metadata": {},
   "source": [
    "* Let's import required libraries"
   ]
  },
  {
   "cell_type": "code",
   "execution_count": 1,
   "metadata": {},
   "outputs": [],
   "source": [
    "import numpy as np\n",
    "from sklearn import svm\n",
    "from sklearn.datasets import fetch_20newsgroups\n",
    "from sklearn.naive_bayes import GaussianNB\n",
    "from sklearn.decomposition import TruncatedSVD\n",
    "from sklearn.feature_extraction.text import CountVectorizer,TfidfTransformer\n",
    "from nltk import SnowballStemmer\n",
    "from sklearn import metrics\n",
    "from sklearn.multiclass import OneVsRestClassifier,OneVsOneClassifier\n",
    "import re"
   ]
  },
  {
   "cell_type": "code",
   "execution_count": 2,
   "metadata": {},
   "outputs": [],
   "source": [
    "#fill in the datasets\n",
    "def train_test_data_fill(list):\n",
    "    train=fetch_20newsgroups(subset='train',shuffle=True,random_state=42,categories=list)\n",
    "    test=fetch_20newsgroups(subset='test',shuffle=True,random_state=42,categories=list)   \n",
    "    return train,test"
   ]
  },
  {
   "cell_type": "code",
   "execution_count": 3,
   "metadata": {},
   "outputs": [],
   "source": [
    "category=['comp.sys.ibm.pc.hardware','comp.sys.mac.hardware','misc.forsale','soc.religion.christian']\n",
    "training_data,testing_data=train_test_data_fill(category)    \n",
    "all_data=training_data.data+testing_data.data"
   ]
  },
  {
   "cell_type": "code",
   "execution_count": 4,
   "metadata": {},
   "outputs": [],
   "source": [
    "#preprocess data\n",
    "stemmer=SnowballStemmer(\"english\")\n",
    "punctuations='[! \\\" # $ % \\& \\' \\( \\) \\* + , \\- \\. \\/ : ; <=> ? @ \\[ \\\\ \\] ^ _ ` { \\| } ~]'    \n",
    "def preprocess_data(data_list):\n",
    "    for i in range(len(data_list)):\n",
    "        data_list[i]=\" \".join([stemmer.stem(data) for data in re.split(punctuations,data_list[i])])\n",
    "        data_list[i]=data_list[i].replace('\\n','').replace('\\t','').replace('\\r','')\n",
    "preprocess_data(all_data)"
   ]
  },
  {
   "cell_type": "code",
   "execution_count": 5,
   "metadata": {},
   "outputs": [],
   "source": [
    "#Feature extraction using TFxIDF\n",
    "count_vect=CountVectorizer(min_df=5,stop_words ='english')\n",
    "X_counts=count_vect.fit_transform(all_data)\n",
    "tfidf_transformer=TfidfTransformer()\n",
    "X_tfidf=tfidf_transformer.fit_transform(X_counts)"
   ]
  },
  {
   "cell_type": "code",
   "execution_count": 6,
   "metadata": {},
   "outputs": [],
   "source": [
    "#LSI to reduce dimensionality\n",
    "svd=TruncatedSVD(n_components=50,n_iter=10,random_state=42)\n",
    "svd.fit(X_tfidf)\n",
    "LSI=svd.transform(X_tfidf)"
   ]
  },
  {
   "cell_type": "code",
   "execution_count": 7,
   "metadata": {},
   "outputs": [
    {
     "name": "stdout",
     "output_type": "stream",
     "text": [
      "Size of Transformed Training Dataset: (2352, 50)\n",
      "Size of Transformed Testing Dataset: (1565, 50)\n"
     ]
    }
   ],
   "source": [
    "LSI_train=LSI[0:len(training_data.data)]\n",
    "LSI_test=LSI[len(training_data.data):]\n",
    "print(\"Size of Transformed Training Dataset: {0}\".format(LSI_train.shape))\n",
    "print(\"Size of Transformed Testing Dataset: {0}\".format(LSI_test.shape))"
   ]
  },
  {
   "cell_type": "code",
   "execution_count": 8,
   "metadata": {},
   "outputs": [],
   "source": [
    "#enlisting the classifiers to be used with the required subclasses in question    \n",
    "clf_list=[OneVsOneClassifier(GaussianNB()),OneVsOneClassifier(svm.LinearSVC()),\n",
    "          OneVsRestClassifier(GaussianNB()),OneVsRestClassifier(svm.LinearSVC())]\n",
    "clf_name=['One vs One Classifier: Naive Bayes','One vs One Classifier: SVM',\n",
    "          'One vs Rest Classifier: Naive Bayes','One vs Rest Classifier: SVM']"
   ]
  },
  {
   "cell_type": "code",
   "execution_count": 11,
   "metadata": {},
   "outputs": [
    {
     "name": "stdout",
     "output_type": "stream",
     "text": [
      "One vs One Classifier: Naive Bayes\n",
      "Classification Report:\n",
      "                          precision    recall  f1-score   support\n",
      "\n",
      "comp.sys.ibm.pc.hardware       0.63      0.63      0.63       392\n",
      "   comp.sys.mac.hardware       0.64      0.58      0.61       385\n",
      "            misc.forsale       0.68      0.73      0.70       390\n",
      "  soc.religion.christian       0.95      0.97      0.96       398\n",
      "\n",
      "               micro avg       0.73      0.73      0.73      1565\n",
      "               macro avg       0.73      0.73      0.73      1565\n",
      "            weighted avg       0.73      0.73      0.73      1565\n",
      "\n",
      "Confusion Matrix:\n",
      "[[247  81  61   3]\n",
      " [ 91 223  67   4]\n",
      " [ 51  41 286  12]\n",
      " [  2   2   9 385]]\n",
      "Total Accuracy: \n",
      "0.729073482428115\n",
      "\n",
      "\n",
      "\n",
      "One vs One Classifier: SVM\n",
      "Classification Report:\n",
      "                          precision    recall  f1-score   support\n",
      "\n",
      "comp.sys.ibm.pc.hardware       0.81      0.85      0.83       392\n",
      "   comp.sys.mac.hardware       0.86      0.81      0.83       385\n",
      "            misc.forsale       0.85      0.88      0.87       390\n",
      "  soc.religion.christian       0.99      0.97      0.98       398\n",
      "\n",
      "               micro avg       0.88      0.88      0.88      1565\n",
      "               macro avg       0.88      0.88      0.88      1565\n",
      "            weighted avg       0.88      0.88      0.88      1565\n",
      "\n",
      "Confusion Matrix:\n",
      "[[335  32  23   2]\n",
      " [ 44 310  31   0]\n",
      " [ 28  17 344   1]\n",
      " [  6   1   5 386]]\n",
      "Total Accuracy: \n",
      "0.8785942492012779\n",
      "\n",
      "\n",
      "\n",
      "One vs Rest Classifier: Naive Bayes\n",
      "Classification Report:\n",
      "                          precision    recall  f1-score   support\n",
      "\n",
      "comp.sys.ibm.pc.hardware       0.64      0.61      0.62       392\n",
      "   comp.sys.mac.hardware       0.66      0.60      0.63       385\n",
      "            misc.forsale       0.66      0.74      0.70       390\n",
      "  soc.religion.christian       0.96      0.97      0.96       398\n",
      "\n",
      "               micro avg       0.73      0.73      0.73      1565\n",
      "               macro avg       0.73      0.73      0.73      1565\n",
      "            weighted avg       0.73      0.73      0.73      1565\n",
      "\n",
      "Confusion Matrix:\n",
      "[[240  79  70   3]\n",
      " [ 86 230  65   4]\n",
      " [ 50  41 288  11]\n",
      " [  0   0  12 386]]\n",
      "Total Accuracy: \n",
      "0.7309904153354633\n",
      "\n",
      "\n",
      "\n",
      "One vs Rest Classifier: SVM\n",
      "Classification Report:\n",
      "                          precision    recall  f1-score   support\n",
      "\n",
      "comp.sys.ibm.pc.hardware       0.83      0.85      0.84       392\n",
      "   comp.sys.mac.hardware       0.86      0.81      0.83       385\n",
      "            misc.forsale       0.86      0.91      0.88       390\n",
      "  soc.religion.christian       0.99      0.98      0.99       398\n",
      "\n",
      "               micro avg       0.89      0.89      0.89      1565\n",
      "               macro avg       0.89      0.89      0.89      1565\n",
      "            weighted avg       0.89      0.89      0.89      1565\n",
      "\n",
      "Confusion Matrix:\n",
      "[[333  33  24   2]\n",
      " [ 44 310  30   1]\n",
      " [ 20  16 353   1]\n",
      " [  3   1   3 391]]\n",
      "Total Accuracy: \n",
      "0.886261980830671\n",
      "\n",
      "\n",
      "\n"
     ]
    }
   ],
   "source": [
    "#Printing the statisitcal answers including accuracy for the classifiers enlisted above\n",
    "for clf,clf_n in zip(clf_list,clf_name):\n",
    "    print(clf_n)\n",
    "    clf.fit(LSI_train,training_data.target)\n",
    "  \n",
    "    test_predicted=clf.predict(LSI_test)\n",
    "    print('Classification Report:')\n",
    "    print(metrics.classification_report(testing_data.target,test_predicted,target_names=['comp.sys.ibm.pc.hardware','comp.sys.mac.hardware','misc.forsale','soc.religion.christian']),)\n",
    "    \n",
    "    print('Confusion Matrix:')\n",
    "    print(metrics.confusion_matrix(testing_data.target,test_predicted)) \n",
    "    \n",
    "    print('Total Accuracy: ')\n",
    "    print(np.mean(testing_data.target==test_predicted))\n",
    "    print(\"\\n\\n\")"
   ]
  },
  {
   "cell_type": "markdown",
   "metadata": {},
   "source": [
    "**Results:**\n",
    "* We can see a considerable difference in accuracy values between SVM and Naive Bayes. SVM performs better than Naive Bayes.\n",
    "* O\n"
   ]
  }
 ],
 "metadata": {
  "kernelspec": {
   "display_name": "Python 3",
   "language": "python",
   "name": "python3"
  },
  "language_info": {
   "codemirror_mode": {
    "name": "ipython",
    "version": 3
   },
   "file_extension": ".py",
   "mimetype": "text/x-python",
   "name": "python",
   "nbconvert_exporter": "python",
   "pygments_lexer": "ipython3",
   "version": "3.7.1"
  }
 },
 "nbformat": 4,
 "nbformat_minor": 2
}
